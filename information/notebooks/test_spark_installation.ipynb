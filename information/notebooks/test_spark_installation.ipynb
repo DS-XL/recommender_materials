{
 "cells": [
  {
   "cell_type": "code",
   "execution_count": 1,
   "metadata": {
    "collapsed": false
   },
   "outputs": [],
   "source": [
    "# https://www.sicara.ai/blog/2017-05-02-get-started-pyspark-jupyter-notebook-3-minutes\n",
    "\n",
    "import findspark\n",
    "findspark.init()"
   ]
  },
  {
   "cell_type": "code",
   "execution_count": null,
   "metadata": {
    "collapsed": false
   },
   "outputs": [],
   "source": [
    "# # test spark context\n",
    "# import pyspark\n",
    "# import random\n",
    "\n",
    "# sc = pyspark.SparkContext(appName=\"Pi\")\n",
    "# num_samples = 100000000\n",
    "\n",
    "# def inside(p):     \n",
    "#   x, y = random.random(), random.random()\n",
    "#   return x*x + y*y < 1\n",
    "\n",
    "# count = sc.parallelize(range(0, num_samples)).filter(inside).count()\n",
    "\n",
    "# pi = 4 * count / num_samples\n",
    "# print(pi)\n",
    "\n",
    "# sc.stop()"
   ]
  },
  {
   "cell_type": "code",
   "execution_count": 4,
   "metadata": {
    "collapsed": true
   },
   "outputs": [],
   "source": [
    "import pyspark\n",
    "# from pyspark import SparkContext as sc\n",
    "\n",
    "from pyspark.sql import SparkSession\n",
    "spark = SparkSession.builder.appName('Basics').getOrCreate()"
   ]
  },
  {
   "cell_type": "code",
   "execution_count": 9,
   "metadata": {
    "collapsed": false
   },
   "outputs": [],
   "source": [
    "import pandas as pd\n",
    "data = {'visitor': ['foo', 'bar', 'jelmer'], \n",
    "        'A': [0, 1, 0],\n",
    "        'B': [1, 0, 1],\n",
    "        'C': [1, 0, 0]}\n",
    "\n",
    "df_orig = pd.DataFrame(data)\n",
    "df = spark.createDataFrame(df_orig)"
   ]
  },
  {
   "cell_type": "code",
   "execution_count": 11,
   "metadata": {
    "collapsed": false
   },
   "outputs": [
    {
     "data": {
      "text/plain": [
       "DataFrame[visitor: string, A: bigint, B: bigint, C: bigint]"
      ]
     },
     "execution_count": 11,
     "metadata": {},
     "output_type": "execute_result"
    }
   ],
   "source": [
    "df"
   ]
  },
  {
   "cell_type": "code",
   "execution_count": 12,
   "metadata": {
    "collapsed": false
   },
   "outputs": [
    {
     "name": "stdout",
     "output_type": "stream",
     "text": [
      "+-------+---+---+---+\n",
      "|visitor|  A|  B|  C|\n",
      "+-------+---+---+---+\n",
      "|    foo|  0|  1|  1|\n",
      "|    bar|  1|  0|  0|\n",
      "| jelmer|  0|  1|  0|\n",
      "+-------+---+---+---+\n",
      "\n"
     ]
    }
   ],
   "source": [
    "df.show()"
   ]
  },
  {
   "cell_type": "code",
   "execution_count": 13,
   "metadata": {
    "collapsed": false
   },
   "outputs": [
    {
     "name": "stdout",
     "output_type": "stream",
     "text": [
      "root\n",
      " |-- visitor: string (nullable = true)\n",
      " |-- A: long (nullable = true)\n",
      " |-- B: long (nullable = true)\n",
      " |-- C: long (nullable = true)\n",
      "\n"
     ]
    }
   ],
   "source": [
    "df.printSchema()"
   ]
  },
  {
   "cell_type": "code",
   "execution_count": 14,
   "metadata": {
    "collapsed": false
   },
   "outputs": [
    {
     "data": {
      "text/plain": [
       "['visitor', 'A', 'B', 'C']"
      ]
     },
     "execution_count": 14,
     "metadata": {},
     "output_type": "execute_result"
    }
   ],
   "source": [
    "df.columns"
   ]
  },
  {
   "cell_type": "code",
   "execution_count": 15,
   "metadata": {
    "collapsed": false
   },
   "outputs": [
    {
     "name": "stdout",
     "output_type": "stream",
     "text": [
      "+-------+-------+------------------+------------------+------------------+\n",
      "|summary|visitor|                 A|                 B|                 C|\n",
      "+-------+-------+------------------+------------------+------------------+\n",
      "|  count|      3|                 3|                 3|                 3|\n",
      "|   mean|   null|0.3333333333333333|0.6666666666666666|0.3333333333333333|\n",
      "| stddev|   null|0.5773502691896257|0.5773502691896257|0.5773502691896257|\n",
      "|    min|    bar|                 0|                 0|                 0|\n",
      "|    max| jelmer|                 1|                 1|                 1|\n",
      "+-------+-------+------------------+------------------+------------------+\n",
      "\n"
     ]
    }
   ],
   "source": [
    "df.describe().show()"
   ]
  },
  {
   "cell_type": "code",
   "execution_count": 16,
   "metadata": {
    "collapsed": false
   },
   "outputs": [
    {
     "name": "stdout",
     "output_type": "stream",
     "text": [
      "+-------+-------+------------------+------------------+------------------+\n",
      "|summary|visitor|                 A|                 B|                 C|\n",
      "+-------+-------+------------------+------------------+------------------+\n",
      "|  count|      3|                 3|                 3|                 3|\n",
      "|   mean|   null|0.3333333333333333|0.6666666666666666|0.3333333333333333|\n",
      "| stddev|   null|0.5773502691896257|0.5773502691896257|0.5773502691896257|\n",
      "|    min|    bar|                 0|                 0|                 0|\n",
      "|    25%|   null|                 0|                 0|                 0|\n",
      "|    50%|   null|                 0|                 1|                 0|\n",
      "|    75%|   null|                 1|                 1|                 1|\n",
      "|    max| jelmer|                 1|                 1|                 1|\n",
      "+-------+-------+------------------+------------------+------------------+\n",
      "\n"
     ]
    }
   ],
   "source": [
    "df.summary().show()"
   ]
  },
  {
   "cell_type": "code",
   "execution_count": null,
   "metadata": {
    "collapsed": true
   },
   "outputs": [],
   "source": []
  }
 ],
 "metadata": {
  "kernelspec": {
   "display_name": "Python [conda env:joblogicx_spark]",
   "language": "python",
   "name": "conda-env-joblogicx_spark-py"
  },
  "language_info": {
   "codemirror_mode": {
    "name": "ipython",
    "version": 3
   },
   "file_extension": ".py",
   "mimetype": "text/x-python",
   "name": "python",
   "nbconvert_exporter": "python",
   "pygments_lexer": "ipython3",
   "version": "3.6.2"
  }
 },
 "nbformat": 4,
 "nbformat_minor": 2
}
